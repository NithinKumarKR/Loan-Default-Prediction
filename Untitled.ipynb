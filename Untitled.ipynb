{
 "cells": [
  {
   "cell_type": "markdown",
   "id": "6292a290",
   "metadata": {},
   "source": [
    "# Vehicle Loan Default Prediction"
   ]
  },
  {
   "cell_type": "markdown",
   "id": "de6bc3d8",
   "metadata": {},
   "source": [
    "# Data Information"
   ]
  },
  {
   "cell_type": "markdown",
   "id": "2f7dcc24",
   "metadata": {},
   "source": [
    "Financial institutions incur significant losses due to the default of vehicle loans. This has led to the tightening up of vehicle loan underwriting and increased vehicle loan rejection rates. The need for a better credit risk scoring model is also raised by these institutions. This warrants a study to estimate the determinants of vehicle loan default. A financial institution has hired you to accurately predict the probability of loanee/borrower defaulting on a vehicle loan in the first EMI (Equated Monthly Instalments) on the due date. Following Information regarding the loan and loanee are provided in the datasets:\n",
    "Loanee Information (Demographic data like age, Identity proof etc.)\n",
    "Loan Information (Disbursal details, loan to value ratio etc.)\n",
    "Bureau data & history (Bureau score, number of active accounts, the status of other loans, credit history etc.)\n",
    "Doing so will ensure that clients capable of repayment are not rejected and important determinants can be identified which can be further used for minimising the default rates."
   ]
  },
  {
   "cell_type": "markdown",
   "id": "55e49c5d",
   "metadata": {},
   "source": [
    "UniqueID\tIdentifier for customers\n",
    "\n",
    "loan_default\tPayment default in the first EMI on due date\n",
    "\n",
    "disbursed_amount\tAmount of Loan disbursed\n",
    "\n",
    "asset_cost\tCost of the Asset\n",
    "\n",
    "ltv\tLoan to Value of the asset\n",
    "\n",
    "branch_id\tBranch where the loan was disbursed\n",
    "\n",
    "supplier_id\tVehicle Dealer where the loan was disbursed\n",
    "\n",
    "manufacturer_id\tVehicle manufacturer(Hero, Honda, TVS etc.)\n",
    "\n",
    "Current_pincode\tCurrent pincode of the customer\n",
    "\n",
    "Date.of.Birth\tDate of birth of the customer\n",
    "\n",
    "Employment.Type\tEmployment Type of the customer (Salaried/Self Employed)\n",
    "\n",
    "DisbursalDate\tDate of disbursement\n",
    "\n",
    "State_ID\tState of disbursement\n",
    "\n",
    "Employee_code_ID\tEmployee of the organization who logged the disbursement\n",
    "\n",
    "MobileNo_Avl_Flag\tif Mobile no. was shared by the customer then flagged as 1\n",
    "\n",
    "Aadhar_flag\tif aadhar was shared by the customer then flagged as 1\n",
    "\n",
    "PAN_flag\tif pan was shared by the customer then flagged as 1\n",
    "\n",
    "VoterID_flag\tif voter  was shared by the customer then flagged as 1\n",
    "\n",
    "Driving_flag\tif DL was shared by the customer then flagged as 1\n",
    "\n",
    "Passport_flag\tif passport was shared by the customer then flagged as 1\n",
    "\n",
    "PERFORM_CNS.SCORE\tBureau Score\n",
    "\n",
    "PERFORM_CNS.SCORE.DESCRIPTION\tBureau score description\n",
    "\n",
    "PRI.NO.OF.ACCTS\tcount of total loans taken by the customer at the time of disbursement\n",
    "\n",
    "PRI.ACTIVE.ACCTS\tcount of active loans taken by the customer at the time of disbursement\n",
    "\n",
    "PRI.OVERDUE.ACCTS\tcount of default accounts at the time of disbursement\n",
    "\n",
    "PRI.CURRENT.BALANCE\ttotal Principal outstanding amount of the active loans at the time of disbursement\n",
    "\n",
    "PRI.SANCTIONED.AMOUNT\ttotal amount that was sanctioned for all the loans at the time of disbursement\n",
    "\n",
    "PRI.DISBURSED.AMOUNT\ttotal amount that was disbursed for all the loans at the time of disbursement\n",
    "\n",
    "SEC.NO.OF.ACCTS\tcount of total loans taken by the customer at the time of disbursement\n",
    "\n",
    "SEC.ACTIVE.ACCTS\tcount of active loans taken by the customer at the time of disbursement\n",
    "\n",
    "SEC.OVERDUE.ACCTS\tcount of default accounts at the time of disbursement\n",
    "\n",
    "SEC.CURRENT.BALANCE\ttotal Principal outstanding amount of the active loans at the time of disbursement\n",
    "\n",
    "SEC.SANCTIONED.AMOUNT\ttotal amount that was sanctioned for all the loans at the time of disbursement\n",
    "\n",
    "SEC.DISBURSED.AMOUNT\ttotal amount that was disbursed for all the loans at the time of disbursement\n",
    "\n",
    "PRIMARY.INSTAL.AMT\tEMI Amount of the primary loan\n",
    "\n",
    "SEC.INSTAL.AMT\tEMI Amount of the secondary loan\n",
    "\n",
    "NEW.ACCTS.IN.LAST.SIX.MONTHS\tNew loans taken by the customer in last 6 months before the disbursment\n",
    "\n",
    "DELINQUENT.ACCTS.IN.LAST.SIX.MONTHS\tLoans defaulted in the last 6 months\n",
    "\n",
    "AVERAGE.ACCT.AGE\tAverage loan tenure\n",
    "\n",
    "CREDIT.HISTORY.LENGTH\tTime since first loan\n",
    "\n",
    "NO.OF_INQUIRIES\tEnquries done by the customer for loans"
   ]
  },
  {
   "cell_type": "code",
   "execution_count": 1,
   "id": "320c156b",
   "metadata": {},
   "outputs": [],
   "source": [
    "%time\n",
    "import scipy.stats as st\n",
    "import pylab\n",
    "import numpy as np\n",
    "import seaborn as sns\n",
    "import matplotlib.pyplot as plt\n",
    "import pandas as pd\n",
    "#loading the dataset"
   ]
  },
  {
   "cell_type": "code",
   "execution_count": 2,
   "id": "2e1c02e5",
   "metadata": {},
   "outputs": [],
   "source": [
    "df=pd.read_csv(\"/Users/nithinkumar/Desktop/Learning_projects/Medical_Cost_Prediction/train.csv\")"
   ]
  },
  {
   "cell_type": "markdown",
   "id": "58b747ad",
   "metadata": {},
   "source": [
    "# Data Preprocessing"
   ]
  },
  {
   "cell_type": "code",
   "execution_count": 3,
   "id": "5bb263cf",
   "metadata": {},
   "outputs": [],
   "source": [
    "#checking the shape of the dataset\n",
    "df.shape"
   ]
  },
  {
   "cell_type": "code",
   "execution_count": 4,
   "id": "1fca6249",
   "metadata": {},
   "outputs": [],
   "source": [
    "#checking the columns of the dataset\n",
    "\n",
    "df.columns"
   ]
  },
  {
   "cell_type": "code",
   "execution_count": 5,
   "id": "16bf247f",
   "metadata": {},
   "outputs": [],
   "source": [
    "df.info()"
   ]
  },
  {
   "cell_type": "code",
   "execution_count": 6,
   "id": "f9286d37",
   "metadata": {},
   "outputs": [],
   "source": [
    "df.describe()"
   ]
  },
  {
   "cell_type": "code",
   "execution_count": 7,
   "id": "dc874b8e",
   "metadata": {},
   "outputs": [],
   "source": [
    "df.drop_duplicates(inplace=True)"
   ]
  },
  {
   "cell_type": "code",
   "execution_count": 8,
   "id": "634b5c04",
   "metadata": {},
   "outputs": [],
   "source": [
    "df.set_index('UniqueID',inplace=True)"
   ]
  },
  {
   "cell_type": "code",
   "execution_count": 9,
   "id": "e57aa619",
   "metadata": {},
   "outputs": [],
   "source": [
    "numerical_cols=[]\n",
    "catorical_cols=[]\n",
    "for cols in df.columns:\n",
    "    (catorical_cols.append(cols) if df[cols].dtype=='object' else numerical_cols.append(cols))\n",
    "df_num=df[numerical_cols]\n",
    "df_cat=df[catorical_cols]"
   ]
  },
  {
   "cell_type": "code",
   "execution_count": 10,
   "id": "35aa48bf",
   "metadata": {},
   "outputs": [],
   "source": [
    "df_cat.head()"
   ]
  },
  {
   "cell_type": "code",
   "execution_count": 11,
   "id": "201cf3e1",
   "metadata": {},
   "outputs": [],
   "source": [
    "df_num.columns"
   ]
  },
  {
   "cell_type": "code",
   "execution_count": 12,
   "id": "50a86779",
   "metadata": {},
   "outputs": [],
   "source": [
    "plt.figure(figsize=(20,8))\n",
    "import seaborn as sns\n",
    "import matplotlib.pyplot as plt\n",
    "\n",
    "sns.heatmap(df.isnull(), cbar=False, cmap='viridis'\n",
    "           )\n",
    "plt.show()\n"
   ]
  },
  {
   "cell_type": "code",
   "execution_count": 13,
   "id": "e31d050f",
   "metadata": {},
   "outputs": [],
   "source": [
    "for i in df.columns:\n",
    "    if df[i].isnull().sum()>0:\n",
    "        print(i,df[i].isnull().sum(),df.shape[0]/df[i].isnull().sum())"
   ]
  },
  {
   "cell_type": "code",
   "execution_count": 14,
   "id": "cb480b66",
   "metadata": {},
   "outputs": [],
   "source": [
    "import re\n",
    "def convert_months(string_months):\n",
    "    string_months_years=re.search(r'(\\d+)yrs',string_months)\n",
    "    string_months_months=re.search(r'(\\d+)mon',string_months)\n",
    "    years=int(string_months_years.group(1) if string_months_years else 0)\n",
    "    months=int(string_months_years.group(1) if string_months_years else 0)\n",
    "    return years*12+months"
   ]
  },
  {
   "cell_type": "code",
   "execution_count": 15,
   "id": "bdf6296a",
   "metadata": {},
   "outputs": [],
   "source": [
    "df['CREDIT.HISTORY.LENGTH']=df['CREDIT.HISTORY.LENGTH'].apply(convert_months)\n",
    "df['AVERAGE.ACCT.AGE']=df['AVERAGE.ACCT.AGE'].apply(convert_months)"
   ]
  },
  {
   "cell_type": "code",
   "execution_count": 16,
   "id": "ce912690",
   "metadata": {},
   "outputs": [],
   "source": [
    "df['Date.of.Birth']=pd.to_datetime(df['Date.of.Birth'])\n",
    "df['DisbursalDate']=pd.to_datetime(df['DisbursalDate'])"
   ]
  },
  {
   "cell_type": "code",
   "execution_count": 17,
   "id": "79d4895f",
   "metadata": {},
   "outputs": [],
   "source": [
    "df['Aadhar_flag']=df['Aadhar_flag'].astype('category')\n",
    "df['MobileNo_Avl_Flag']=df['MobileNo_Avl_Flag'].astype('category')\n",
    "df['PAN_flag']=df['PAN_flag'].astype('category')\n",
    "df['Driving_flag']=df['Driving_flag'].astype('category')\n",
    "df['VoterID_flag']=df['VoterID_flag'].astype('category')\n",
    "df['Passport_flag']=df['Passport_flag'].astype('category')"
   ]
  },
  {
   "cell_type": "code",
   "execution_count": 18,
   "id": "3f306067",
   "metadata": {},
   "outputs": [],
   "source": [
    "df.info()"
   ]
  },
  {
   "cell_type": "markdown",
   "id": "f70a9941",
   "metadata": {},
   "source": [
    "# EDA"
   ]
  },
  {
   "cell_type": "code",
   "execution_count": 19,
   "id": "f4b962e2",
   "metadata": {},
   "outputs": [],
   "source": [
    "fig, ax = plt.subplots(1,figsize=(50, 20));\n",
    "mask = np.triu(np.ones_like(df.corr()*100, dtype=bool))\n",
    "sns.heatmap(df.corr()*100, mask = mask, annot=True, cmap='Dark2',linewidths=0);\n",
    "plt.xticks(fontsize=10,rotation=90);\n",
    "plt.yticks(fontsize=10,rotation=0);\n",
    "plt.show();"
   ]
  },
  {
   "cell_type": "code",
   "execution_count": 20,
   "id": "cf1bc2e1",
   "metadata": {},
   "outputs": [],
   "source": [
    "plt.figure(figsize=(20,5));\n",
    "sns.lineplot(x='DisbursalDate',y='disbursed_amount'\n",
    "                     ,hue='loan_default',data=df,errorbar=None,estimator='sum');\n",
    "plt.xlabel('Disbursal Date',fontsize=20);\n",
    "plt.ylabel('Disbursed Amount',fontsize=20);\n",
    "# Add legend outside the plot\n",
    "plt.legend(bbox_to_anchor=(1, 1));\n",
    "plt.xticks(fontsize=20);\n",
    "plt.yticks(fontsize=20);"
   ]
  },
  {
   "cell_type": "code",
   "execution_count": 21,
   "id": "d5c6dcb5",
   "metadata": {},
   "outputs": [],
   "source": [
    "plt.figure(figsize=(20,5));\n",
    "sns.lineplot(x='DisbursalDate',y='ltv'\n",
    "                     ,hue='loan_default',data=df,errorbar=None,estimator='median');\n",
    "plt.xlabel('Disbursal Date',fontsize=20);\n",
    "plt.ylabel('ltv',fontsize=20);\n",
    "# Add legend outside the plot\n",
    "plt.legend(bbox_to_anchor=(1, 1));\n",
    "plt.xticks(fontsize=20);\n",
    "plt.yticks(fontsize=20);"
   ]
  },
  {
   "cell_type": "code",
   "execution_count": 22,
   "id": "f8dc0530",
   "metadata": {},
   "outputs": [],
   "source": [
    "plt.figure(figsize=(20,5));\n",
    "sns.lineplot(x='DisbursalDate',y='PERFORM_CNS.SCORE'\n",
    "                     ,hue='loan_default',data=df,errorbar=None,estimator='median');\n",
    "plt.xlabel('Disbursal Date',fontsize=20);\n",
    "plt.ylabel('PERFORM_CNS.SCORE',fontsize=20);\n",
    "# Add legend outside the plot\n",
    "plt.legend(bbox_to_anchor=(1, 1));\n",
    "plt.xticks(fontsize=20);\n",
    "plt.yticks(fontsize=20);"
   ]
  },
  {
   "cell_type": "code",
   "execution_count": 23,
   "id": "65562db6",
   "metadata": {},
   "outputs": [],
   "source": [
    "plt.figure(figsize=(10,5));\n",
    "#gender and customer churn\n",
    "sns.countplot(x = 'NO.OF_INQUIRIES', data = df, hue = 'loan_default')\n",
    "plt.title('Gender Distribution')\n",
    "plt.xlabel('Gender')\n",
    "plt.ylabel('Count')\n",
    "plt.xticks(fontsize=10);\n",
    "plt.yticks(fontsize=10);\n",
    "plt.show()"
   ]
  },
  {
   "cell_type": "code",
   "execution_count": 24,
   "id": "de5f0448",
   "metadata": {},
   "outputs": [],
   "source": [
    "#pie chart\n",
    "#plt.figure(figsize=(10,6))\n",
    "plt.pie(df['loan_default'].value_counts(),labels=['No','Yes'],autopct='%1.2f%%')\n",
    "plt.title('Churn Percentage')\n",
    "plt.show()"
   ]
  },
  {
   "cell_type": "code",
   "execution_count": 25,
   "id": "d452b1a4",
   "metadata": {
    "scrolled": true
   },
   "outputs": [],
   "source": [
    "plt.figure(figsize=(5,3))\n",
    "\n",
    "sns.kdeplot(data=df , x='PERFORM_CNS.SCORE', hue='loan_default', multiple='stack', palette='tab10');"
   ]
  },
  {
   "cell_type": "code",
   "execution_count": 26,
   "id": "fce1dfd3",
   "metadata": {},
   "outputs": [],
   "source": [
    "# Group by 'loan_default' and count the occurrences of identification flags\n",
    "df_idiniction = df.groupby(['loan_default'])['MobileNo_Avl_Flag', 'Aadhar_flag', 'PAN_flag', 'VoterID_flag', 'Driving_flag', 'Passport_flag'].count().reset_index()\n",
    "\n",
    "# Melt the DataFrame to reshape it for plotting\n",
    "df_idiniction_melted = pd.melt(df_idiniction, id_vars='loan_default', var_name='Identification_Flag', value_name='Count')\n",
    "\n",
    "\n",
    "# Plot the bar plot\n",
    "plt.figure(figsize=(10, 3))\n",
    "sns.barplot(x='Identification_Flag', y='Count', hue='loan_default', data=df_idiniction_melted)\n",
    "plt.title('Bar Plot of Identification Flags vs. Loan Default')\n",
    "plt.xlabel('Identification Flags')\n",
    "plt.ylabel('Count');\n",
    "\n",
    "plt.show();"
   ]
  },
  {
   "cell_type": "code",
   "execution_count": 27,
   "id": "c05cae0d",
   "metadata": {},
   "outputs": [],
   "source": [
    "df.columns"
   ]
  },
  {
   "cell_type": "code",
   "execution_count": null,
   "id": "40bbbc24",
   "metadata": {},
   "outputs": [],
   "source": []
  }
 ],
 "metadata": {
  "kernelspec": {
   "display_name": "Python 3 (ipykernel)",
   "language": "python",
   "name": "python3"
  },
  "language_info": {
   "codemirror_mode": {
    "name": "ipython",
    "version": 3
   },
   "file_extension": ".py",
   "mimetype": "text/x-python",
   "name": "python",
   "nbconvert_exporter": "python",
   "pygments_lexer": "ipython3",
   "version": "3.10.9"
  }
 },
 "nbformat": 4,
 "nbformat_minor": 5
}
